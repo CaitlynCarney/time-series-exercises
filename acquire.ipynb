{
 "cells": [
  {
   "cell_type": "code",
   "execution_count": 21,
   "metadata": {},
   "outputs": [],
   "source": [
    "import pandas as pd\n",
    "import requests"
   ]
  },
  {
   "cell_type": "markdown",
   "metadata": {},
   "source": [
    "1. Using the code from the lesson as a guide and the REST API from https://python.zach.lol/api/v1/items as we did in the lesson, create a dataframe named items that has all of the data for items."
   ]
  },
  {
   "cell_type": "code",
   "execution_count": 22,
   "metadata": {},
   "outputs": [],
   "source": [
    "def get_items(cached=False):\n",
    "    if cached == False:\n",
    "        items_list = []\n",
    "        url = \"https://python.zach.lol/api/v1/items\"\n",
    "        response = requests.get(url)\n",
    "        data = response.json()\n",
    "        n = data['payload']['max_page']\n",
    "        \n",
    "        for i in range(1, n+1):\n",
    "            new_url = url + '?page=' + str(i)\n",
    "            response = requests.get(new_url)\n",
    "            data = response.json()\n",
    "            page_items = data['payload']['items']\n",
    "            items_list += page_items\n",
    "            \n",
    "        items = pd.DataFrame(items_list)\n",
    "        items.to_csv('items.csv')\n",
    "            \n",
    "    else:\n",
    "        items = pd.read_csv('items.csv', index_col=0)\n",
    "    \n",
    "    return items"
   ]
  },
  {
   "cell_type": "code",
   "execution_count": 23,
   "metadata": {},
   "outputs": [
    {
     "data": {
      "text/html": [
       "<div>\n",
       "<style scoped>\n",
       "    .dataframe tbody tr th:only-of-type {\n",
       "        vertical-align: middle;\n",
       "    }\n",
       "\n",
       "    .dataframe tbody tr th {\n",
       "        vertical-align: top;\n",
       "    }\n",
       "\n",
       "    .dataframe thead th {\n",
       "        text-align: right;\n",
       "    }\n",
       "</style>\n",
       "<table border=\"1\" class=\"dataframe\">\n",
       "  <thead>\n",
       "    <tr style=\"text-align: right;\">\n",
       "      <th></th>\n",
       "      <th>Unnamed: 0</th>\n",
       "      <th>item_brand</th>\n",
       "      <th>item_id</th>\n",
       "      <th>item_name</th>\n",
       "      <th>item_price</th>\n",
       "      <th>item_upc12</th>\n",
       "      <th>item_upc14</th>\n",
       "    </tr>\n",
       "  </thead>\n",
       "  <tbody>\n",
       "    <tr>\n",
       "      <th>30</th>\n",
       "      <td>30</td>\n",
       "      <td>Zhenas Gypsy Tea</td>\n",
       "      <td>31</td>\n",
       "      <td>Zhenas Gypsy Tea Herbal Red Tea Sachets Fire L...</td>\n",
       "      <td>4.21</td>\n",
       "      <td>652790100226</td>\n",
       "      <td>652790100226</td>\n",
       "    </tr>\n",
       "  </tbody>\n",
       "</table>\n",
       "</div>"
      ],
      "text/plain": [
       "    Unnamed: 0        item_brand  item_id  \\\n",
       "30          30  Zhenas Gypsy Tea       31   \n",
       "\n",
       "                                            item_name  item_price  \\\n",
       "30  Zhenas Gypsy Tea Herbal Red Tea Sachets Fire L...        4.21   \n",
       "\n",
       "      item_upc12    item_upc14  \n",
       "30  652790100226  652790100226  "
      ]
     },
     "execution_count": 23,
     "metadata": {},
     "output_type": "execute_result"
    }
   ],
   "source": [
    "items = pd.read_csv('items.csv')\n",
    "items.sample()"
   ]
  },
  {
   "cell_type": "code",
   "execution_count": 24,
   "metadata": {},
   "outputs": [],
   "source": [
    "# grabe the base of the site\n",
    "#base_url = \"https://python.zach.lol/api/v1/items\""
   ]
  },
  {
   "cell_type": "code",
   "execution_count": 25,
   "metadata": {},
   "outputs": [],
   "source": [
    "#make the response things\n",
    "#stores_response = requests.get(base_url + '/stores')\n",
    "#items_response = requests.get(base_url + '/items')\n"
   ]
  },
  {
   "cell_type": "code",
   "execution_count": 26,
   "metadata": {},
   "outputs": [],
   "source": [
    "# get the first page\n",
    "#items_payload = items_response.json()['payload']\n",
    "#response = requests.get(base_url)\n",
    "#first_page_of_items = items_payload['items']"
   ]
  },
  {
   "cell_type": "code",
   "execution_count": 27,
   "metadata": {},
   "outputs": [],
   "source": [
    "# get the second page\n",
    "#endpoint_for_second_page = items_payload['next_page']\n",
    "#page2_items_response = requests.get('https://python.zach.lol' + endpoint_for_second_page)\n",
    "#items_page2_payload = page2_items_response.json()['payload']\n",
    "#second_page_of_items = items_page2_payload['items']\n"
   ]
  },
  {
   "cell_type": "code",
   "execution_count": 28,
   "metadata": {},
   "outputs": [],
   "source": [
    "# get the third page\n",
    "#endpoint_for_third_page = items_page2_payload['next_page']\n",
    "#page3_items_response = requests.get('https://python.zach.lol' + endpoint_for_third_page)\n",
    "#items_page3_payload = page3_items_response.json()['payload']\n",
    "#third_page_of_items = items_page3_payload['items']\n"
   ]
  },
  {
   "cell_type": "code",
   "execution_count": 29,
   "metadata": {},
   "outputs": [],
   "source": [
    "# make the dataframe\n",
    "#items = first_page_of_items + second_page_of_items + third_page_of_items\n",
    "#items"
   ]
  },
  {
   "cell_type": "markdown",
   "metadata": {},
   "source": [
    "2. Do the same thing, but for stores (https://python.zach.lol/api/v1/stores)"
   ]
  },
  {
   "cell_type": "code",
   "execution_count": 40,
   "metadata": {},
   "outputs": [],
   "source": [
    "def get_stores(cached=False):\n",
    "    if cached == False:\n",
    "        stores_list = []\n",
    "        url = \"https://python.zach.lol/api/v1/stores\"\n",
    "        response = requests.get(url)\n",
    "        data = response.json()\n",
    "        n = data['payload']['max_page']\n",
    "        \n",
    "        for i in range(1, n+1):\n",
    "            new_url = url + '?page=' + str(i)\n",
    "            response = requests.get(new_url)\n",
    "            data = response.json()\n",
    "            page_stores = data['payload']['stores']\n",
    "            stores_list += page_stores\n",
    "            \n",
    "        stores = pd.DataFrame(stores_list)\n",
    "        stores.to_csv('stores.csv')\n",
    "            \n",
    "    else:\n",
    "        stores = pd.read_csv('stores.csv', index_col=0)\n",
    "    \n",
    "    return stores"
   ]
  },
  {
   "cell_type": "code",
   "execution_count": 41,
   "metadata": {},
   "outputs": [],
   "source": [
    "#stores = get_stores(cached=False)"
   ]
  },
  {
   "cell_type": "code",
   "execution_count": 42,
   "metadata": {},
   "outputs": [
    {
     "data": {
      "text/html": [
       "<div>\n",
       "<style scoped>\n",
       "    .dataframe tbody tr th:only-of-type {\n",
       "        vertical-align: middle;\n",
       "    }\n",
       "\n",
       "    .dataframe tbody tr th {\n",
       "        vertical-align: top;\n",
       "    }\n",
       "\n",
       "    .dataframe thead th {\n",
       "        text-align: right;\n",
       "    }\n",
       "</style>\n",
       "<table border=\"1\" class=\"dataframe\">\n",
       "  <thead>\n",
       "    <tr style=\"text-align: right;\">\n",
       "      <th></th>\n",
       "      <th>Unnamed: 0</th>\n",
       "      <th>store_address</th>\n",
       "      <th>store_city</th>\n",
       "      <th>store_id</th>\n",
       "      <th>store_state</th>\n",
       "      <th>store_zipcode</th>\n",
       "    </tr>\n",
       "  </thead>\n",
       "  <tbody>\n",
       "    <tr>\n",
       "      <th>2</th>\n",
       "      <td>2</td>\n",
       "      <td>2118 Fredericksburg Rdj</td>\n",
       "      <td>San Antonio</td>\n",
       "      <td>3</td>\n",
       "      <td>TX</td>\n",
       "      <td>78201</td>\n",
       "    </tr>\n",
       "  </tbody>\n",
       "</table>\n",
       "</div>"
      ],
      "text/plain": [
       "   Unnamed: 0            store_address   store_city  store_id store_state  \\\n",
       "2           2  2118 Fredericksburg Rdj  San Antonio         3          TX   \n",
       "\n",
       "   store_zipcode  \n",
       "2          78201  "
      ]
     },
     "execution_count": 42,
     "metadata": {},
     "output_type": "execute_result"
    }
   ],
   "source": [
    "stores = pd.read_csv('stores.csv')\n",
    "stores.sample()"
   ]
  },
  {
   "cell_type": "code",
   "execution_count": 33,
   "metadata": {},
   "outputs": [],
   "source": [
    "# grabe the base of the site\n",
    "#base_url = \"https://python.zach.lol/api/v1/stores\""
   ]
  },
  {
   "cell_type": "code",
   "execution_count": 34,
   "metadata": {},
   "outputs": [],
   "source": [
    "#stores_response = requests.get(base_url)\n",
    "#stores_response.json()\n",
    "# max page of 1"
   ]
  },
  {
   "cell_type": "code",
   "execution_count": 35,
   "metadata": {},
   "outputs": [],
   "source": [
    "# create the page\n",
    "#stores_payload = stores_response.json()['payload']"
   ]
  },
  {
   "cell_type": "code",
   "execution_count": 36,
   "metadata": {},
   "outputs": [],
   "source": [
    "# get the first page\n",
    "#response = requests.get(base_url)\n",
    "#first_page_of_stores = stores_payload['stores']"
   ]
  },
  {
   "cell_type": "code",
   "execution_count": 37,
   "metadata": {},
   "outputs": [],
   "source": [
    "# make the dataframe\n",
    "#stores = first_page_of_stores\n",
    "#stores"
   ]
  },
  {
   "cell_type": "markdown",
   "metadata": {},
   "source": [
    "3. Extract the data for sales (https://python.zach.lol/api/v1/sales). There are a lot of pages of data here, so your code will need to be a little more complex. Your code should continue fetching data from the next page until all of the data is extracted."
   ]
  },
  {
   "cell_type": "code",
   "execution_count": null,
   "metadata": {},
   "outputs": [],
   "source": [
    "# grabe the base of the site\n",
    "# base_url = \"https://python.zach.lol/api/v1/sales\""
   ]
  },
  {
   "cell_type": "code",
   "execution_count": 43,
   "metadata": {},
   "outputs": [],
   "source": [
    "def get_sales(cached=False):\n",
    "    if cached == False:\n",
    "        sales_list = []\n",
    "        url = \"https://python.zach.lol/api/v1/sales\"\n",
    "        response = requests.get(url)\n",
    "        data = response.json()\n",
    "        n = data['payload']['max_page']\n",
    "        \n",
    "        for i in range(1, n+1):\n",
    "            new_url = url + '?page=' + str(i)\n",
    "            response = requests.get(new_url)\n",
    "            data = response.json()\n",
    "            page_sales = data['payload']['sales']\n",
    "            sales_list += page_sales\n",
    "            \n",
    "        sales = pd.DataFrame(sales_list)\n",
    "        sales.to_csv('sales.csv')\n",
    "            \n",
    "    else:\n",
    "        sales = pd.read_csv('sales.csv', index_col=0)\n",
    "    \n",
    "    return sales"
   ]
  },
  {
   "cell_type": "code",
   "execution_count": 44,
   "metadata": {},
   "outputs": [],
   "source": [
    "sales = get_sales(cached=False)"
   ]
  },
  {
   "cell_type": "code",
   "execution_count": null,
   "metadata": {},
   "outputs": [],
   "source": [
    "sales = pd.read_csv('sales.csv')\n",
    "sales.sample()"
   ]
  },
  {
   "cell_type": "code",
   "execution_count": null,
   "metadata": {},
   "outputs": [],
   "source": []
  },
  {
   "cell_type": "code",
   "execution_count": null,
   "metadata": {},
   "outputs": [],
   "source": []
  },
  {
   "cell_type": "markdown",
   "metadata": {},
   "source": [
    "4. Save the data in your files to local csv files so that it will be faster to access in the future."
   ]
  },
  {
   "cell_type": "code",
   "execution_count": null,
   "metadata": {},
   "outputs": [],
   "source": []
  },
  {
   "cell_type": "markdown",
   "metadata": {},
   "source": [
    "5. Combine the data from your three separate dataframes into one large dataframe."
   ]
  },
  {
   "cell_type": "code",
   "execution_count": null,
   "metadata": {},
   "outputs": [],
   "source": []
  },
  {
   "cell_type": "markdown",
   "metadata": {},
   "source": [
    "6. Acquire the Open Power Systems Data for Germany, which has been rapidly expanding its renewable energy production in recent years. The data set includes country-wide totals of electricity consumption, wind power production, and solar power production for 2006-2017. You can get the data here: https://raw.githubusercontent.com/jenfly/opsd/master/opsd_germany_daily.csv"
   ]
  },
  {
   "cell_type": "code",
   "execution_count": null,
   "metadata": {},
   "outputs": [],
   "source": []
  },
  {
   "cell_type": "markdown",
   "metadata": {},
   "source": [
    "7. Make sure all the work that you have done above is reproducible. That is, you should put the code above into separate functions in the acquire.py file and be able to re-run the functions and get the same data."
   ]
  },
  {
   "cell_type": "code",
   "execution_count": null,
   "metadata": {},
   "outputs": [],
   "source": []
  }
 ],
 "metadata": {
  "kernelspec": {
   "display_name": "Python 3",
   "language": "python",
   "name": "python3"
  },
  "language_info": {
   "codemirror_mode": {
    "name": "ipython",
    "version": 3
   },
   "file_extension": ".py",
   "mimetype": "text/x-python",
   "name": "python",
   "nbconvert_exporter": "python",
   "pygments_lexer": "ipython3",
   "version": "3.8.5"
  }
 },
 "nbformat": 4,
 "nbformat_minor": 4
}
